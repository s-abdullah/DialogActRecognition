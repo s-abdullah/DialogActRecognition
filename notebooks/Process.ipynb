{
 "cells": [
  {
   "cell_type": "code",
   "execution_count": null,
   "metadata": {},
   "outputs": [],
   "source": [
    "import pandas as pd\n",
    "import numpy as np\n",
    "import re\n",
    "import nltk \n",
    "from nltk import word_tokenize\n",
    "from nltk.util import ngrams\n",
    "from collections import Counter\n",
    "\n",
    "# nlp.download('punkt')"
   ]
  },
  {
   "cell_type": "code",
   "execution_count": 14,
   "metadata": {},
   "outputs": [],
   "source": [
    "# COMMENT THIS OUT FOR THE SECOND RUN\n",
    "trFile  = \"train_merged.csv\"\n",
    "saveFile = \"TopTenTrain.csv\"\n",
    "\n",
    "# saveFile = \"TopTenTest.csv\"\n",
    "# trFile = \"test_merged.csv\"\n",
    "\n",
    "threshold  = 11"
   ]
  },
  {
   "cell_type": "code",
   "execution_count": 15,
   "metadata": {
    "scrolled": true
   },
   "outputs": [
    {
     "name": "stdout",
     "output_type": "stream",
     "text": [
      "PROCESSING DATA\n"
     ]
    }
   ],
   "source": [
    "print(\"PROCESSING DATA\")\n",
    "trainFile = pd.read_csv(trFile, low_memory=False)\n"
   ]
  },
  {
   "cell_type": "code",
   "execution_count": 16,
   "metadata": {},
   "outputs": [],
   "source": [
    "# print(\"PROCESSING DATA TO GET THE TEN FREQUENT DIALOG ACTS\")\n",
    "# print(trainFile[\"act_tag\"].value_counts()[:threshold])\n",
    "# dActs = list(trainFile[\"act_tag\"].value_counts()[:threshold].to_dict().keys())\n",
    "# # removing unexplained tags\n",
    "# dActs.remove(\"+\")\n",
    "# print(dActs)\n",
    "dActs = ['sd', 'b', 'sv', '%', 'aa', 'ba', 'qy', 'x', 'ny', 'fc']"
   ]
  },
  {
   "cell_type": "code",
   "execution_count": 17,
   "metadata": {},
   "outputs": [],
   "source": [
    "# dictionary for seeing things\n",
    "# myDict = {'sd':0, 'b':0, 'sv':0, '%':0, 'aa':0, 'ba':0, 'qy':0, 'x':0, 'ny':0, 'fc':0}\n",
    "# fill = {'F':[], \"E\":[], 'D':[], \"C\":[], 'A':[]}"
   ]
  },
  {
   "cell_type": "code",
   "execution_count": 18,
   "metadata": {},
   "outputs": [],
   "source": [
    "# processing trainign data to remove rows with irreleveant tags and saving the processed train file\n",
    "drop = []\n",
    "cleaned = []\n",
    "dirty = []\n",
    "fillers = []\n",
    "emotion = []\n",
    "for index, row in trainFile.iterrows():\n",
    "    curTag = row[\"act_tag\"]\n",
    "    curVal = row[\"text\"]\n",
    "    if curTag not in dActs:\n",
    "        drop.append(index)\n",
    "    else:\n",
    "        dirty.append(curVal)\n",
    "        clean = curVal\n",
    "        filler = re.findall('\\{(.[^\\}]*)\\}', curVal)\n",
    "        emot = re.findall('\\<+(.[^\\>]*)\\>+', curVal)\n",
    "        \n",
    "        if filler:\n",
    "            fill = \"\"\n",
    "            for num in filler:\n",
    "                clean = clean.replace(num[0], \"\")\n",
    "                fill = fill+num[0]+\" \"\n",
    "            fillers.append(fill)\n",
    "            \n",
    "        else:\n",
    "            fillers.append(\"None\")\n",
    "            \n",
    "        if emot:\n",
    "            em = \"\"\n",
    "            for num in emot:\n",
    "                em = em + (re.sub('\\W+',' ', num)) + \" \"\n",
    "                clean = clean.replace(num, \"\")\n",
    "            emotion.append(em)\n",
    "        else:\n",
    "            emotion.append(\"None\")\n",
    "        \n",
    "        clean = re.sub('[^a-zA-Z0-9_\\']+',' ', clean)\n",
    "        cleaned.append(re.sub('\\'','', clean))\n",
    "trainFile = trainFile.drop(trainFile.index[drop])\n",
    "trainFile.insert(6, \"cleanText\", cleaned, True)\n",
    "trainFile.insert(7, \"action\", emotion, True)\n",
    "trainFile.insert(8, \"fillers\", fillers, True)\n",
    "\n",
    "# # print(trainFile[\"act_tag\"].value_counts())\n",
    "trainFile.to_csv(saveFile, index=False)"
   ]
  },
  {
   "cell_type": "code",
   "execution_count": 19,
   "metadata": {
    "scrolled": true
   },
   "outputs": [
    {
     "name": "stdout",
     "output_type": "stream",
     "text": [
      " Oh yes \n",
      "{F Oh, } yes,  /\n",
      "F \n"
     ]
    }
   ],
   "source": [
    "print(trainFile[\"cleanText\"][108])\n",
    "print(trainFile[\"text\"][108])\n",
    "print(trainFile[\"fillers\"][108])\n"
   ]
  },
  {
   "cell_type": "code",
   "execution_count": 87,
   "metadata": {},
   "outputs": [],
   "source": []
  },
  {
   "cell_type": "code",
   "execution_count": null,
   "metadata": {},
   "outputs": [],
   "source": []
  },
  {
   "cell_type": "code",
   "execution_count": null,
   "metadata": {},
   "outputs": [],
   "source": []
  },
  {
   "cell_type": "code",
   "execution_count": null,
   "metadata": {},
   "outputs": [],
   "source": []
  }
 ],
 "metadata": {
  "kernelspec": {
   "display_name": "Python 3",
   "language": "python",
   "name": "python3"
  },
  "language_info": {
   "codemirror_mode": {
    "name": "ipython",
    "version": 3
   },
   "file_extension": ".py",
   "mimetype": "text/x-python",
   "name": "python",
   "nbconvert_exporter": "python",
   "pygments_lexer": "ipython3",
   "version": "3.6.7"
  }
 },
 "nbformat": 4,
 "nbformat_minor": 2
}
