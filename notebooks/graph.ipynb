{
 "cells": [
  {
   "cell_type": "code",
   "execution_count": 1,
   "metadata": {},
   "outputs": [],
   "source": [
    "import pandas as pd\n",
    "import numpy as np\n",
    "import re\n",
    "import matplotlib.pyplot as plt"
   ]
  },
  {
   "cell_type": "code",
   "execution_count": 2,
   "metadata": {},
   "outputs": [],
   "source": [
    "uni = \"unigramFeatures.csv\"\n",
    "pos = \"posFeatures.csv\"\n",
    "cus = \"customFeatures.csv\"\n"
   ]
  },
  {
   "cell_type": "code",
   "execution_count": 3,
   "metadata": {},
   "outputs": [
    {
     "name": "stdout",
     "output_type": "stream",
     "text": [
      "PROCESSING DATA\n"
     ]
    }
   ],
   "source": [
    "print(\"PROCESSING DATA\")\n",
    "dataUni = pd.read_csv(uni, low_memory=False)\n",
    "dataPos = pd.read_csv(pos, low_memory=False)\n",
    "dataCus = pd.read_csv(cus, low_memory=False)"
   ]
  },
  {
   "cell_type": "code",
   "execution_count": 4,
   "metadata": {},
   "outputs": [],
   "source": [
    "myDict = {'sd':0, 'b':0, 'sv':0, '%':0, 'aa':0, 'ba':0, 'qy':0, 'x':0, 'ny':0, 'fc':0}\n",
    "feat = 'yeah'\n",
    "for index, row in dataUni.iterrows():\n",
    "    ind = row[\"act_tag\"]\n",
    "    f = row[feat]\n",
    "    myDict[ind]+=f"
   ]
  },
  {
   "cell_type": "code",
   "execution_count": 5,
   "metadata": {},
   "outputs": [
    {
     "data": {
      "image/png": "[encoded data removed]",
      "text/plain": [
       "<Figure size 432x288 with 1 Axes>"
      ]
     },
     "metadata": {
      "needs_background": "light"
     },
     "output_type": "display_data"
    }
   ],
   "source": [
    "x1 = myDict.keys()\n",
    "y1 = myDict.values()\n",
    "y_pos = np.arange(len(x1))\n",
    "\n",
    "plt.bar(y_pos, y1, align='center', alpha=0.5)\n",
    "plt.xticks(y_pos, x1)\n",
    "plt.ylabel('Usage')\n",
    "plt.title('Dialog Acts for ''Yeah'' unigram')\n",
    " \n",
    "plt.show()\n"
   ]
  },
  {
   "cell_type": "code",
   "execution_count": 6,
   "metadata": {},
   "outputs": [],
   "source": [
    "myDict = {'sd':0, 'b':0, 'sv':0, '%':0, 'aa':0, 'ba':0, 'qy':0, 'x':0, 'ny':0, 'fc':0}\n",
    "feat = 'nn'\n",
    "for index, row in dataPos.iterrows():\n",
    "    ind = row[\"act_tag\"]\n",
    "    f = row[feat]\n",
    "    myDict[ind]+=f"
   ]
  },
  {
   "cell_type": "code",
   "execution_count": 7,
   "metadata": {},
   "outputs": [
    {
     "data": {
      "image/png": "[encoded data removed]",
      "text/plain": [
       "<Figure size 432x288 with 1 Axes>"
      ]
     },
     "metadata": {
      "needs_background": "light"
     },
     "output_type": "display_data"
    }
   ],
   "source": [
    "x1 = myDict.keys()\n",
    "y1 = myDict.values()\n",
    "\n",
    "y_pos = np.arange(len(x1))\n",
    "plt.bar(y_pos, y1, align='center', alpha=0.5)\n",
    "plt.xticks(y_pos, x1)\n",
    "plt.ylabel('Usage')\n",
    "plt.title('Dialog Acts for ''NN'' Part of Speach')\n",
    " \n",
    "plt.show()"
   ]
  },
  {
   "cell_type": "code",
   "execution_count": 8,
   "metadata": {},
   "outputs": [],
   "source": [
    "myDict = {'sd':0, 'b':0, 'sv':0, '%':0, 'aa':0, 'ba':0, 'qy':0, 'x':0, 'ny':0, 'fc':0}\n",
    "# feat = 'action'\n",
    "for index, row in dataCus.iterrows():\n",
    "    ind = row[\"act_tag\"]\n",
    "#     f = row['F']+row['C']+row['D']+row['E']+row['A']\n",
    "    f = row['?']\n",
    "    \n",
    "    myDict[ind]+=f"
   ]
  },
  {
   "cell_type": "code",
   "execution_count": 9,
   "metadata": {},
   "outputs": [
    {
     "data": {
      "image/png": "[encoded data removed]",
      "text/plain": [
       "<Figure size 432x288 with 1 Axes>"
      ]
     },
     "metadata": {
      "needs_background": "light"
     },
     "output_type": "display_data"
    }
   ],
   "source": [
    "x1 = myDict.keys()\n",
    "y1 = myDict.values()\n",
    "\n",
    "y_pos = np.arange(len(x1))\n",
    "plt.bar(y_pos, y1, align='center', alpha=0.5)\n",
    "plt.xticks(y_pos, x1)\n",
    "plt.ylabel('Usage')\n",
    "plt.title('Dialog Acts for ''?'' customFeature')\n",
    " \n",
    "plt.show()"
   ]
  },
  {
   "cell_type": "code",
   "execution_count": null,
   "metadata": {},
   "outputs": [],
   "source": []
  },
  {
   "cell_type": "code",
   "execution_count": null,
   "metadata": {},
   "outputs": [],
   "source": []
  },
  {
   "cell_type": "code",
   "execution_count": null,
   "metadata": {},
   "outputs": [],
   "source": []
  },
  {
   "cell_type": "code",
   "execution_count": null,
   "metadata": {},
   "outputs": [],
   "source": []
  }
 ],
 "metadata": {
  "kernelspec": {
   "display_name": "Python 3",
   "language": "python",
   "name": "python3"
  },
  "language_info": {
   "codemirror_mode": {
    "name": "ipython",
    "version": 3
   },
   "file_extension": ".py",
   "mimetype": "text/x-python",
   "name": "python",
   "nbconvert_exporter": "python",
   "pygments_lexer": "ipython3",
   "version": "3.6.7"
  }
 },
 "nbformat": 4,
 "nbformat_minor": 2
}
